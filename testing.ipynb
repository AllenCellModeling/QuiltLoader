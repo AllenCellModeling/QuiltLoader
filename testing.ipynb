{
 "cells": [
  {
   "cell_type": "markdown",
   "metadata": {},
   "source": [
    "## Non-instanced QuiltLoaders\n",
    "\n",
    "### Short:\n",
    "Independent initializations of QuiltLoader with unique custom behavior functions result in all instances of QuiltLoader loaded datasets to take on the most recent initialization of QuiltLoader's custom behavior.\n",
    "\n",
    "Below is an example of this:\n",
    "load dataset_one, load dataset_two -> dataset_one takes on dataset_two's loaded behaviors\n",
    "\n",
    "### Reasoning:\n",
    "This has to do with manipulating the `quilt.nodes.Node` object. When QuiltLoader initializes, it is creating a new QuiltLoader object that lives very briefly to add multiple functions and changes to the Quilt objects. Once these manipulations are complete, it doesn't return a QuiltLoader object, but a Quilt PackageNode object.\n",
    "\n",
    "### Possible Solutions:\n",
    "Look into python's `types` module and specifically `types.MethodType`.\n",
    "\n",
    "Or, and I hope not this option, write QuiltLoader in a way that acts as a full wrapper for Quilt objects. This may be easier but means there would be more maintenence when Quilt changes things on their side."
   ]
  },
  {
   "cell_type": "code",
   "execution_count": null,
   "metadata": {},
   "outputs": [],
   "source": [
    "# testing behavior of multiple QuiltLoader instances\n",
    "from QuiltLoader.QuiltLoader import QuiltLoader as ql\n",
    "\n",
    "# import default QuiltLoader\n",
    "# image loader: TiffFile\n",
    "default = ql('random_sample')\n",
    "\n",
    "# shows TiffFile object\n",
    "print(default['fovs'][0]['image'])"
   ]
  },
  {
   "cell_type": "code",
   "execution_count": null,
   "metadata": {},
   "outputs": [],
   "source": [
    "import tifffile\n",
    "loaders = {'image': tifffile.imread}\n",
    "\n",
    "# custom loader: imread\n",
    "custom = ql('random_sample', load_functions=loaders)\n",
    "\n",
    "# shows ndarray object\n",
    "print(custom['fovs'][0]['image'])"
   ]
  },
  {
   "cell_type": "code",
   "execution_count": null,
   "metadata": {},
   "outputs": [],
   "source": [
    "# behavior of original QuiltLoader has now changed\n",
    "print(default['fovs'][0]['image'])"
   ]
  }
 ],
 "metadata": {
  "kernelspec": {
   "display_name": "Python 3",
   "language": "python",
   "name": "python3"
  },
  "language_info": {
   "codemirror_mode": {
    "name": "ipython",
    "version": 3
   },
   "file_extension": ".py",
   "mimetype": "text/x-python",
   "name": "python",
   "nbconvert_exporter": "python",
   "pygments_lexer": "ipython3",
   "version": "3.6.3"
  }
 },
 "nbformat": 4,
 "nbformat_minor": 2
}
