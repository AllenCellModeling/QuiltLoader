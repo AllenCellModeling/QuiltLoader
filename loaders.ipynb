{
 "cells": [
  {
   "cell_type": "code",
   "execution_count": 1,
   "metadata": {},
   "outputs": [
    {
     "name": "stdout",
     "output_type": "stream",
     "text": [
      "TiffFile '3b2b023d4b2e...0dc874977ed'  362.06 MiB  LittleEndian  OME  455 Pages\n"
     ]
    }
   ],
   "source": [
    "from QuiltLoader import QuiltLoader as ql\n",
    "\n",
    "# QuiltLoader can handle both 'org/pkg'\n",
    "data = ql('aics/random_sample')\n",
    "\n",
    "# or preload\n",
    "from quilt.data.aics import random_sample\n",
    "data = ql(random_sample)\n",
    "\n",
    "# we have subscriptable nodes now\n",
    "fov = data['fovs'][19]\n",
    "img = fov['image']\n",
    "print(img)"
   ]
  },
  {
   "cell_type": "code",
   "execution_count": 2,
   "metadata": {},
   "outputs": [
    {
     "name": "stdout",
     "output_type": "stream",
     "text": [
      "dict_keys(['plate_type', 'plate_id', 'plate_barcode', 'population_id', 'passage', 'clone', 'parent_plate_id', 'image_ids', 'seeding_density', 'cellbatch', 'source_plate_id', 'cell_viability', 'well_type', 'well_name', 'concentration', 'coating_type', 'seed_date', 'colony_ids', 'location', 'content_type', 'instrument', 'channels', 'plates', 'lines', 'wells', 'cell_segs', 'nuclei_segs', 'structure_segs'])\n"
     ]
    }
   ],
   "source": [
    "# look at those no loads\n",
    "meta = fov['info']\n",
    "print(meta.keys())"
   ]
  },
  {
   "cell_type": "code",
   "execution_count": 3,
   "metadata": {},
   "outputs": [
    {
     "name": "stdout",
     "output_type": "stream",
     "text": [
      "0 AICS-10\n",
      "1 AICS-11\n",
      "2 AICS-12\n",
      "3 AICS-13\n",
      "4 AICS-16\n",
      "5 AICS-17\n",
      "6 AICS-23\n",
      "7 AICS-24\n",
      "8 AICS-25\n"
     ]
    }
   ],
   "source": [
    "# iterable nodes too\n",
    "for i, line in enumerate(data['lines']):\n",
    "    print(i, line['line'])"
   ]
  },
  {
   "cell_type": "code",
   "execution_count": null,
   "metadata": {},
   "outputs": [
    {
     "name": "stdout",
     "output_type": "stream",
     "text": [
      "0 <GroupNode>\n",
      "image/\n",
      "info/\n",
      "\n",
      "1 <GroupNode>\n",
      "image/\n",
      "info/\n",
      "\n",
      "2 <GroupNode>\n",
      "image/\n",
      "info/\n",
      "\n"
     ]
    }
   ],
   "source": [
    "# can even slice\n",
    "for i, fov in enumerate(data['fovs'][0:6:2]):\n",
    "    print(i, fov)"
   ]
  },
  {
   "cell_type": "code",
   "execution_count": null,
   "metadata": {},
   "outputs": [],
   "source": [
    "img = ql.display_channels(img)"
   ]
  },
  {
   "cell_type": "code",
   "execution_count": null,
   "metadata": {},
   "outputs": [],
   "source": [
    "ql.display_rgb(img)"
   ]
  },
  {
   "cell_type": "code",
   "execution_count": null,
   "metadata": {},
   "outputs": [],
   "source": [
    "ql.display_rgb(img, use='mean')"
   ]
  },
  {
   "cell_type": "code",
   "execution_count": null,
   "metadata": {},
   "outputs": [],
   "source": [
    "ql.display_rgb(img, use='percentile')"
   ]
  },
  {
   "cell_type": "code",
   "execution_count": null,
   "metadata": {},
   "outputs": [],
   "source": [
    "ql.display_stack(img)"
   ]
  },
  {
   "cell_type": "code",
   "execution_count": null,
   "metadata": {},
   "outputs": [],
   "source": [
    "ql.display_stack(img, use='mean')"
   ]
  },
  {
   "cell_type": "code",
   "execution_count": null,
   "metadata": {},
   "outputs": [],
   "source": [
    "ql.display_stack(img, use='percentile')"
   ]
  }
 ],
 "metadata": {
  "kernelspec": {
   "display_name": "Python 3",
   "language": "python",
   "name": "python3"
  },
  "language_info": {
   "codemirror_mode": {
    "name": "ipython",
    "version": 3
   },
   "file_extension": ".py",
   "mimetype": "text/x-python",
   "name": "python",
   "nbconvert_exporter": "python",
   "pygments_lexer": "ipython3",
   "version": "3.6.3"
  }
 },
 "nbformat": 4,
 "nbformat_minor": 2
}
