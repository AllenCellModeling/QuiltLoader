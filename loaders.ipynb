{
 "cells": [
  {
   "cell_type": "code",
   "execution_count": null,
   "metadata": {},
   "outputs": [],
   "source": [
    "from QuiltLoader.QuiltLoader import QuiltLoader as ql\n",
    "# import quilt\n",
    "# quilt.install('aics/random_sample', force=True)\n",
    "\n",
    "# QuiltLoader can handle both 'org/pkg'\n",
    "data = ql('aics/random_sample')\n",
    "\n",
    "# or preload\n",
    "from quilt.data.aics import random_sample\n",
    "data = ql(random_sample)\n",
    "\n",
    "# we have subscriptable nodes now\n",
    "fov = data['fovs'][18]\n",
    "img = fov['image']\n",
    "print(img)\n",
    "\n",
    "# get all node keys\n",
    "keys = list(data.__dict__.keys())\n",
    "iter_k = list(keys)\n",
    "# remove any keys that begin with '_'\n",
    "for remove_key in iter_k:\n",
    "    if remove_key.startswith('_'):\n",
    "        keys.remove(remove_key)\n",
    "        \n",
    "print(keys)"
   ]
  },
  {
   "cell_type": "code",
   "execution_count": null,
   "metadata": {},
   "outputs": [],
   "source": [
    "# can pass different load functions in\n",
    "import tifffile as tfle\n",
    "loaders = {'image': tfle.imread}\n",
    "\n",
    "# no org given, defaults to aics\n",
    "data = ql('random_sample', load_functions=loaders)\n",
    "fov = data['fovs'][18]\n",
    "img = fov['image']\n",
    "print(img.shape)"
   ]
  },
  {
   "cell_type": "code",
   "execution_count": null,
   "metadata": {},
   "outputs": [],
   "source": [
    "# look at those no loads\n",
    "meta = fov['info']\n",
    "print(meta.keys())\n",
    "\n",
    "# you can do inline opening and continuation\n",
    "print(fov['info']['cell_segs'][0])"
   ]
  },
  {
   "cell_type": "code",
   "execution_count": null,
   "metadata": {},
   "outputs": [],
   "source": [
    "# iterable nodes too\n",
    "for i, line in enumerate(data['lines']):\n",
    "    print(i, line['info']['line'])"
   ]
  },
  {
   "cell_type": "code",
   "execution_count": null,
   "metadata": {},
   "outputs": [],
   "source": [
    "# can even slice\n",
    "for i, well in enumerate(data['wells'][0:6:2]):\n",
    "    print(i, well)"
   ]
  },
  {
   "cell_type": "code",
   "execution_count": null,
   "metadata": {},
   "outputs": [],
   "source": [
    "for line, node in data['lines'].items():\n",
    "    print(line, node)"
   ]
  },
  {
   "cell_type": "code",
   "execution_count": null,
   "metadata": {},
   "outputs": [],
   "source": [
    "wells_df = data['wells'].as_dataframe()\n",
    "print(wells_df)"
   ]
  },
  {
   "cell_type": "code",
   "execution_count": null,
   "metadata": {},
   "outputs": [],
   "source": [
    "associates = fov.get_associates()\n",
    "print(associates)"
   ]
  },
  {
   "cell_type": "code",
   "execution_count": null,
   "metadata": {},
   "outputs": [],
   "source": [
    "fov.display_channels()"
   ]
  },
  {
   "cell_type": "code",
   "execution_count": null,
   "metadata": {},
   "outputs": [],
   "source": [
    "fov.display_rgb()"
   ]
  },
  {
   "cell_type": "code",
   "execution_count": null,
   "metadata": {},
   "outputs": [],
   "source": [
    "fov.display_rgb(use='all')"
   ]
  },
  {
   "cell_type": "code",
   "execution_count": null,
   "metadata": {},
   "outputs": [],
   "source": [
    "fov.display_stack()"
   ]
  },
  {
   "cell_type": "code",
   "execution_count": null,
   "metadata": {},
   "outputs": [],
   "source": [
    "fov.display_stack(use='all')"
   ]
  },
  {
   "cell_type": "code",
   "execution_count": null,
   "metadata": {},
   "outputs": [],
   "source": [
    "fov.display_segs()"
   ]
  },
  {
   "cell_type": "code",
   "execution_count": null,
   "metadata": {},
   "outputs": [],
   "source": [
    "data['lines'][0].display_rgb()"
   ]
  },
  {
   "cell_type": "code",
   "execution_count": null,
   "metadata": {},
   "outputs": [],
   "source": [
    "data['lines'][0].display_segs()"
   ]
  },
  {
   "cell_type": "code",
   "execution_count": null,
   "metadata": {},
   "outputs": [],
   "source": [
    "import matplotlib.pyplot as plt\n",
    "import numpy as np\n",
    "%matplotlib inline\n",
    "\n",
    "n_segs = len(data['structure_segs'])\n",
    "fig, axes = plt.subplots(int(n_segs / 5), 5, figsize=(15, 10))\n",
    "axes = axes.flatten()\n",
    "\n",
    "for i, ax in enumerate(axes):\n",
    "    max_project = np.max(data['structure_segs'][i]['image'], 0)\n",
    "    ax.imshow(max_project)\n",
    "    ax.set(xticks=[], yticks=[])\n",
    "    ax.set_title('seg: ' + str(i) + '\\n' + data['lines'][data['structure_segs'][i]['info']['lines'][0]]['info']['line'])\n",
    "\n",
    "plt.tight_layout()"
   ]
  }
 ],
 "metadata": {
  "kernelspec": {
   "display_name": "Python 3",
   "language": "python",
   "name": "python3"
  },
  "language_info": {
   "codemirror_mode": {
    "name": "ipython",
    "version": 3
   },
   "file_extension": ".py",
   "mimetype": "text/x-python",
   "name": "python",
   "nbconvert_exporter": "python",
   "pygments_lexer": "ipython3",
   "version": "3.6.3"
  }
 },
 "nbformat": 4,
 "nbformat_minor": 2
}
